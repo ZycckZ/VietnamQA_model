{
  "nbformat": 4,
  "nbformat_minor": 0,
  "metadata": {
    "colab": {
      "provenance": []
    },
    "kernelspec": {
      "name": "python3",
      "display_name": "Python 3"
    },
    "language_info": {
      "name": "python"
    }
  },
  "cells": [
    {
      "cell_type": "code",
      "execution_count": null,
      "metadata": {
        "colab": {
          "base_uri": "https://localhost:8080/"
        },
        "id": "A8PVfBuw53k9",
        "outputId": "81ec6fd0-8f7c-46be-e867-70607fd523c6"
      },
      "outputs": [
        {
          "output_type": "stream",
          "name": "stderr",
          "text": [
            "Device set to use cpu\n"
          ]
        },
        {
          "name": "stdout",
          "output_type": "stream",
          "text": [
            "Tôi: chủ tịch hồ chí minh tên gì?\n",
            "\n",
            "🤖 Trả lời: Nguyễn Sinh Cung, tên khi đi học là Nguyễn Tất Thành (độ tin cậy: 0.03)\n",
            "\n",
            "Tôi: năm 1930 chủ tịch hồ chí minh làm gì\n",
            "\n",
            "🤖 Trả lời: tiếp tục hoạt động cho sự nghiệp giải phóng của dân tộc Việt Nam (độ tin cậy: 0.01)\n",
            "\n",
            "Tôi: tổ chức nào làm nòng cốt cho hội việt nam thanh niên cách mạng đồng chí hội \n",
            "\n",
            "🤖 Trả lời: Cộng sản đoàn\" (độ tin cậy: 0.15)\n",
            "\n",
            "Tôi: ai là người việt nam đầu tiên ủng hộ cách mạng tháng mười nga\n",
            "\n",
            "🤖 Trả lời: Chủ tịch Hồ Chí Minh (độ tin cậy: 0.42)\n",
            "\n",
            "Tôi: exit\n"
          ]
        }
      ],
      "source": [
        "from transformers import pipeline\n",
        "import pandas as pd\n",
        "\n",
        "# Load lại model\n",
        "question_answerer = pipeline(\"question-answering\", model=\"ZycckZ/VieModTest\")\n",
        "\n",
        "# Đọc CSV (ví dụ đã có 2 cột question, context)\n",
        "data = pd.read_csv(\"/content/knowledge.csv\")\n",
        "\n",
        "# # Tạo hàm tìm context theo câu hỏi\n",
        "# def get_context_for_question(question_text):\n",
        "#     for item in data['data']:\n",
        "#         for para in item['paragraphs']:\n",
        "#             for qa in para['qas']:\n",
        "#                 if qa['question'] == question_text:\n",
        "#                     return para['context']\n",
        "#     return None  # nếu không tìm thấy\n",
        "\n",
        "def get_context(title = \"Hồ Chí Minh\"):\n",
        "    filtered_data = data[data['title'].str.contains(title, case=False)]\n",
        "    if not filtered_data.empty:\n",
        "        return \" \".join(filtered_data['context'].tolist())\n",
        "    else:\n",
        "        return \" \".join(data['context'].tolist())  # fallback: ghép tất cả\n",
        "\n",
        "# # Khởi tạo context (nơi chứa thông tin cho chatbot)\n",
        "# context = get_context_for_question(question)\n",
        "\n",
        "# Hàm chatbot đơn giản\n",
        "def chatbot():\n",
        "    # while True:\n",
        "    #     question = input(\"Tôi: \")\n",
        "    #     if question.lower() == 'exit':\n",
        "    #         break\n",
        "    #     result = question_answerer(question=question, context=context)\n",
        "    #     print(f\"\\n🤖 Trả lời: {result['answer']} (độ tin cậy: {result['score']:.2f})\\n\")\n",
        "\n",
        "  while True:\n",
        "        question = input(\"Tôi: \")\n",
        "        if question.lower() == 'exit':\n",
        "            break\n",
        "\n",
        "        # Lấy context theo từ khóa trong câu hỏi (ví dụ ở đây mặc định là 'Hồ Chí Minh')\n",
        "        context = get_context(\"Hồ Chí Minh\")\n",
        "\n",
        "        result = question_answerer(question=question, context=context)\n",
        "        print(f\"\\n🤖 Trả lời: {result['answer']} (độ tin cậy: {result['score']:.2f})\\n\")\n",
        "\n",
        "# Chạy thử chatbot\n",
        "chatbot()"
      ]
    },
    {
      "cell_type": "code",
      "source": [
        "from transformers import pipeline\n",
        "import pandas as pd\n",
        "\n",
        "# Load lại model\n",
        "question_answerer = pipeline(\"question-answering\", model=\"ZycckZ/VieModTest\")\n",
        "\n",
        "# Đọc CSV (ví dụ đã có 2 cột question, context)\n",
        "data = pd.read_csv(\"/content/knowledge.csv\")\n",
        "\n",
        "titles = data['title'].unique()\n",
        "\n",
        "def detect_title_from_question(question):\n",
        "    for t in titles:\n",
        "        if t.lower() in question.lower():\n",
        "            return t\n",
        "    return None\n",
        "\n",
        "def get_context(title):\n",
        "    filtered_data = data[data['title'].str.contains(title, case=False)]\n",
        "    if not filtered_data.empty:\n",
        "        return \" \".join(filtered_data['context'].tolist())\n",
        "    else:\n",
        "        return None\n",
        "\n",
        "# Hàm chatbot đơn giản\n",
        "def chatbot():\n",
        "    while True:\n",
        "        question = input(\"Tôi: \")\n",
        "        if question.lower() == 'exit':\n",
        "            break\n",
        "\n",
        "        # Tự động tìm title trong câu hỏi\n",
        "        detected_title = detect_title_from_question(question)\n",
        "        if detected_title:\n",
        "          context = get_context(detected_title)\n",
        "          if context:\n",
        "              print(f\"🤖 Đã tìm thấy chủ đề: {detected_title}\")\n",
        "          else:\n",
        "              print(\"🤖 Không tìm thấy dữ liệu phù hợp cho chủ đề đó. Mình sẽ dùng toàn bộ dữ liệu để trả lời.\")\n",
        "              context = \" \".join(data['context'].tolist())\n",
        "        else:\n",
        "          print(\"🤖 Không xác định được chủ đề. Mình sẽ dùng toàn bộ dữ liệu để trả lời.\")\n",
        "          context = \" \".join(data['context'].tolist())\n",
        "\n",
        "\n",
        "        result = question_answerer(question=question, context=context)\n",
        "        print(f\"\\n🤖 Trả lời: {result['answer']} (độ tin cậy: {result['score']:.2f})\\n\")\n",
        "\n",
        "# Chạy thử chatbot\n",
        "chatbot()"
      ],
      "metadata": {
        "colab": {
          "base_uri": "https://localhost:8080/"
        },
        "id": "8JOvMS2oCcUP",
        "outputId": "325d5a36-f213-4cde-d942-dd88caedda83"
      },
      "execution_count": null,
      "outputs": [
        {
          "output_type": "stream",
          "name": "stderr",
          "text": [
            "Device set to use cpu\n"
          ]
        },
        {
          "name": "stdout",
          "output_type": "stream",
          "text": [
            "Tôi: năm 1930 chủ tịch hồ chí minh làm gì\n",
            "🤖 Đã tìm thấy chủ đề: Hồ Chí Minh\n",
            "\n",
            "🤖 Trả lời: tiếp tục hoạt động cho sự nghiệp giải phóng của dân tộc Việt Nam (độ tin cậy: 0.01)\n",
            "\n",
            "Tôi: ai là người việt nam đầu tiên ủng hộ cách mạng tháng mười nga\n",
            "🤖 Không xác định được chủ đề. Mình sẽ dùng toàn bộ dữ liệu để trả lời.\n",
            "\n",
            "🤖 Trả lời: Chủ tịch Hồ Chí Minh (độ tin cậy: 0.42)\n",
            "\n",
            "Tôi: nguyễn sinh cung là ai\n",
            "🤖 Không xác định được chủ đề. Mình sẽ dùng toàn bộ dữ liệu để trả lời.\n",
            "\n",
            "🤖 Trả lời: Chủ tịch Hồ Chí Minh (độ tin cậy: 0.00)\n",
            "\n",
            "Tôi: đại tướng võ nguyên giáp là ai\n",
            "🤖 Không xác định được chủ đề. Mình sẽ dùng toàn bộ dữ liệu để trả lời.\n",
            "\n",
            "🤖 Trả lời: Chủ tịch Hồ Chí Minh (độ tin cậy: 0.00)\n",
            "\n",
            "Tôi: exit\n"
          ]
        }
      ]
    }
  ]
}