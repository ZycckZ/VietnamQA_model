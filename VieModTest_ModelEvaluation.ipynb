{
  "nbformat": 4,
  "nbformat_minor": 0,
  "metadata": {
    "colab": {
      "provenance": [],
      "gpuType": "T4"
    },
    "kernelspec": {
      "name": "python3",
      "display_name": "Python 3"
    },
    "language_info": {
      "name": "python"
    },
    "accelerator": "GPU"
  },
  "cells": [
    {
      "cell_type": "code",
      "execution_count": 2,
      "metadata": {
        "colab": {
          "base_uri": "https://localhost:8080/"
        },
        "id": "xs2uc53Ymmuk",
        "outputId": "ce39724f-33a2-49e9-86e1-0848c99522d1"
      },
      "outputs": [
        {
          "output_type": "stream",
          "name": "stdout",
          "text": [
            "Requirement already satisfied: transformers in /usr/local/lib/python3.11/dist-packages (4.51.3)\n",
            "Requirement already satisfied: datasets in /usr/local/lib/python3.11/dist-packages (3.5.0)\n",
            "Requirement already satisfied: evaluate in /usr/local/lib/python3.11/dist-packages (0.4.3)\n",
            "Requirement already satisfied: filelock in /usr/local/lib/python3.11/dist-packages (from transformers) (3.18.0)\n",
            "Requirement already satisfied: huggingface-hub<1.0,>=0.30.0 in /usr/local/lib/python3.11/dist-packages (from transformers) (0.30.2)\n",
            "Requirement already satisfied: numpy>=1.17 in /usr/local/lib/python3.11/dist-packages (from transformers) (2.0.2)\n",
            "Requirement already satisfied: packaging>=20.0 in /usr/local/lib/python3.11/dist-packages (from transformers) (24.2)\n",
            "Requirement already satisfied: pyyaml>=5.1 in /usr/local/lib/python3.11/dist-packages (from transformers) (6.0.2)\n",
            "Requirement already satisfied: regex!=2019.12.17 in /usr/local/lib/python3.11/dist-packages (from transformers) (2024.11.6)\n",
            "Requirement already satisfied: requests in /usr/local/lib/python3.11/dist-packages (from transformers) (2.32.3)\n",
            "Requirement already satisfied: tokenizers<0.22,>=0.21 in /usr/local/lib/python3.11/dist-packages (from transformers) (0.21.1)\n",
            "Requirement already satisfied: safetensors>=0.4.3 in /usr/local/lib/python3.11/dist-packages (from transformers) (0.5.3)\n",
            "Requirement already satisfied: tqdm>=4.27 in /usr/local/lib/python3.11/dist-packages (from transformers) (4.67.1)\n",
            "Requirement already satisfied: pyarrow>=15.0.0 in /usr/local/lib/python3.11/dist-packages (from datasets) (18.1.0)\n",
            "Requirement already satisfied: dill<0.3.9,>=0.3.0 in /usr/local/lib/python3.11/dist-packages (from datasets) (0.3.8)\n",
            "Requirement already satisfied: pandas in /usr/local/lib/python3.11/dist-packages (from datasets) (2.2.2)\n",
            "Requirement already satisfied: xxhash in /usr/local/lib/python3.11/dist-packages (from datasets) (3.5.0)\n",
            "Requirement already satisfied: multiprocess<0.70.17 in /usr/local/lib/python3.11/dist-packages (from datasets) (0.70.16)\n",
            "Requirement already satisfied: fsspec<=2024.12.0,>=2023.1.0 in /usr/local/lib/python3.11/dist-packages (from fsspec[http]<=2024.12.0,>=2023.1.0->datasets) (2024.12.0)\n",
            "Requirement already satisfied: aiohttp in /usr/local/lib/python3.11/dist-packages (from datasets) (3.11.15)\n",
            "Requirement already satisfied: aiohappyeyeballs>=2.3.0 in /usr/local/lib/python3.11/dist-packages (from aiohttp->datasets) (2.6.1)\n",
            "Requirement already satisfied: aiosignal>=1.1.2 in /usr/local/lib/python3.11/dist-packages (from aiohttp->datasets) (1.3.2)\n",
            "Requirement already satisfied: attrs>=17.3.0 in /usr/local/lib/python3.11/dist-packages (from aiohttp->datasets) (25.3.0)\n",
            "Requirement already satisfied: frozenlist>=1.1.1 in /usr/local/lib/python3.11/dist-packages (from aiohttp->datasets) (1.6.0)\n",
            "Requirement already satisfied: multidict<7.0,>=4.5 in /usr/local/lib/python3.11/dist-packages (from aiohttp->datasets) (6.4.3)\n",
            "Requirement already satisfied: propcache>=0.2.0 in /usr/local/lib/python3.11/dist-packages (from aiohttp->datasets) (0.3.1)\n",
            "Requirement already satisfied: yarl<2.0,>=1.17.0 in /usr/local/lib/python3.11/dist-packages (from aiohttp->datasets) (1.20.0)\n",
            "Requirement already satisfied: typing-extensions>=3.7.4.3 in /usr/local/lib/python3.11/dist-packages (from huggingface-hub<1.0,>=0.30.0->transformers) (4.13.2)\n",
            "Requirement already satisfied: charset-normalizer<4,>=2 in /usr/local/lib/python3.11/dist-packages (from requests->transformers) (3.4.1)\n",
            "Requirement already satisfied: idna<4,>=2.5 in /usr/local/lib/python3.11/dist-packages (from requests->transformers) (3.10)\n",
            "Requirement already satisfied: urllib3<3,>=1.21.1 in /usr/local/lib/python3.11/dist-packages (from requests->transformers) (2.3.0)\n",
            "Requirement already satisfied: certifi>=2017.4.17 in /usr/local/lib/python3.11/dist-packages (from requests->transformers) (2025.1.31)\n",
            "Requirement already satisfied: python-dateutil>=2.8.2 in /usr/local/lib/python3.11/dist-packages (from pandas->datasets) (2.8.2)\n",
            "Requirement already satisfied: pytz>=2020.1 in /usr/local/lib/python3.11/dist-packages (from pandas->datasets) (2025.2)\n",
            "Requirement already satisfied: tzdata>=2022.7 in /usr/local/lib/python3.11/dist-packages (from pandas->datasets) (2025.2)\n",
            "Requirement already satisfied: six>=1.5 in /usr/local/lib/python3.11/dist-packages (from python-dateutil>=2.8.2->pandas->datasets) (1.17.0)\n"
          ]
        },
        {
          "output_type": "stream",
          "name": "stderr",
          "text": [
            "Device set to use cuda:0\n"
          ]
        },
        {
          "output_type": "stream",
          "name": "stdout",
          "text": [
            "Đánh giá mô hình ZycckZ/VieModTest:\n",
            "Exact Match (EM): 50.28\n",
            "F1 Score: 70.75\n"
          ]
        }
      ],
      "source": [
        "# Cài đặt thư viện cần thiết\n",
        "!pip install transformers datasets evaluate\n",
        "\n",
        "# Import thư viện\n",
        "from transformers import pipeline\n",
        "from datasets import load_dataset\n",
        "import evaluate\n",
        "\n",
        "# Load mô hình ZycckZ/VieModTest\n",
        "qa_pipeline = pipeline(\"question-answering\", model=\"ZycckZ/VieModTest\", tokenizer=\"ZycckZ/VieModTest\")\n",
        "\n",
        "# Load bộ dữ liệu đánh giá (ví dụ: UIT-ViQuAD2.0)\n",
        "dataset = load_dataset(\"taidng/UIT-ViQuAD2.0\", split=\"validation\")\n",
        "\n",
        "# Load metrics\n",
        "squad_metric = evaluate.load(\"squad\")\n",
        "\n",
        "# Hàm chạy đánh giá\n",
        "def evaluate_model(dataset, qa_pipeline):\n",
        "    predictions = []\n",
        "    references = []\n",
        "\n",
        "    for item in dataset:\n",
        "        context = item[\"context\"]\n",
        "        question = item[\"question\"]\n",
        "\n",
        "        # Check if the 'text' list is empty before accessing it\n",
        "        # If empty, skip this instance\n",
        "        if not item[\"answers\"][\"text\"]:\n",
        "            continue\n",
        "\n",
        "        ground_truth = item[\"answers\"][\"text\"][0]  # Lấy câu trả lời đúng đầu tiên\n",
        "\n",
        "\n",
        "        pred = qa_pipeline(question=question, context=context)\n",
        "\n",
        "        predictions.append({\n",
        "            \"id\": item[\"id\"],\n",
        "            \"prediction_text\": pred[\"answer\"]\n",
        "        })\n",
        "        references.append({\n",
        "            \"id\": item[\"id\"],\n",
        "            \"answers\": {\n",
        "                \"answer_start\": item[\"answers\"][\"answer_start\"],\n",
        "                \"text\": item[\"answers\"][\"text\"]\n",
        "            }\n",
        "        })\n",
        "\n",
        "    # Tính điểm\n",
        "    results = squad_metric.compute(predictions=predictions, references=references)\n",
        "    return results\n",
        "\n",
        "# Chạy đánh giá\n",
        "results = evaluate_model(dataset, qa_pipeline)\n",
        "\n",
        "# In kết quả\n",
        "print(\"Đánh giá mô hình ZycckZ/VieModTest:\")\n",
        "print(f\"Exact Match (EM): {results['exact_match']:.2f}\")\n",
        "print(f\"F1 Score: {results['f1']:.2f}\")\n"
      ]
    }
  ]
}